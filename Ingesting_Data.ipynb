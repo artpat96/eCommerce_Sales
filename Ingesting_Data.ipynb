{
 "cells": [
  {
   "cell_type": "code",
   "execution_count": 0,
   "metadata": {
    "application/vnd.databricks.v1+cell": {
     "cellMetadata": {
      "byteLimit": 2048000,
      "rowLimit": 10000
     },
     "inputWidgets": {},
     "nuid": "1cda4937-5925-4d73-912a-e25b593b6d47",
     "showTitle": false,
     "title": ""
    }
   },
   "outputs": [],
   "source": [
    "# Access keys config\n",
    "spark.conf.set(\"fs.s3a.access.key\", \"XXXXXXXXXXXXXXX\")\n",
    "spark.conf.set(\"fs.s3a.secret.key\", \"YYYYYYYYYYYYYYYYYYYYYYYYYYYY\")\n",
    "spark.conf.set(\"fs.s3a.impl\", \"org.apache.hadoop.fs.s3a.S3AFileSystem\")\n",
    "spark.conf.set(\"fs.s3a.endpoint\", \"s3.amazonaws.com\")\n",
    "spark.conf.set(\"fs.s3a.aws.credentials.provider\", \"org.apache.hadoop.fs.s3a.SimpleAWSCredentialsProvider\")"
   ]
  },
  {
   "cell_type": "markdown",
   "metadata": {
    "application/vnd.databricks.v1+cell": {
     "cellMetadata": {
      "byteLimit": 2048000,
      "rowLimit": 10000
     },
     "inputWidgets": {},
     "nuid": "0a68d8b6-0e41-4a5e-8468-3bbc8026ec1c",
     "showTitle": false,
     "title": ""
    }
   },
   "source": [
    "#### Creating Schemas"
   ]
  },
  {
   "cell_type": "code",
   "execution_count": 0,
   "metadata": {
    "application/vnd.databricks.v1+cell": {
     "cellMetadata": {
      "byteLimit": 2048000,
      "rowLimit": 10000
     },
     "inputWidgets": {},
     "nuid": "9c074b51-eaef-4a51-930a-0bcdf40258f5",
     "showTitle": false,
     "title": ""
    }
   },
   "outputs": [],
   "source": [
    "from pyspark.sql.types import StructType, StructField, IntegerType, StringType, FloatType, TimestampType\n",
    "\n",
    "payments_schema = StructType([\n",
    "    StructField(\"order_id\", StringType(), False),\n",
    "    StructField(\"payment_sequential\", IntegerType(), True),\n",
    "    StructField(\"payment_type\", StringType(), True),\n",
    "    StructField(\"payment_installments\", IntegerType(), True),\n",
    "    StructField(\"payment_value\", FloatType(), True)\n",
    "])\n",
    "\n",
    "products_schema = StructType([\n",
    "    StructField(\"product_id\", StringType(), False),\n",
    "    StructField(\"product_category_name\", StringType(), True),\n",
    "    StructField(\"product_name_lenght\", IntegerType(), True),\n",
    "    StructField(\"product_description_length\", IntegerType(), True),\n",
    "    StructField(\"product_photos_qty\", IntegerType(), True),\n",
    "    StructField(\"product_weight_g\", IntegerType(), True),\n",
    "    StructField(\"product_length_cm\", IntegerType(), True),\n",
    "    StructField(\"product_height_cm\", IntegerType(), True),\n",
    "    StructField(\"product_width_cm\", IntegerType(), True)\n",
    "])\n",
    "\n",
    "sellers_schema = StructType([\n",
    "    StructField(\"seller_id\", StringType(), False),\n",
    "    StructField(\"seller_zip_code_prefix\", IntegerType(), True),\n",
    "    StructField(\"seller_city\", StringType(), True),\n",
    "    StructField(\"seller_state\", StringType(), True)\n",
    "])\n",
    "\n",
    "orders_schema = StructType([\n",
    "    StructField(\"order_id\", StringType(), False),\n",
    "    StructField(\"customer_id\", StringType(), True),\n",
    "    StructField(\"order_status\", StringType(), True),\n",
    "    StructField(\"order_purchase_timestamp\", TimestampType(), True),\n",
    "    StructField(\"order_delivered_carrier_date\", TimestampType(), True),\n",
    "    StructField(\"order_delivered_customer_date\", TimestampType(), True),\n",
    "    StructField(\"order_estimated_delivery_date\", TimestampType(), True)\n",
    "])\n",
    "\n",
    "order_items_schema = StructType([\n",
    "    StructField(\"order_id\", StringType(), False),\n",
    "    StructField(\"order_item_id\", IntegerType(), True),\n",
    "    StructField(\"product_id\", StringType(), True),\n",
    "    StructField(\"seller_id\", StringType(), True),\n",
    "    StructField(\"shipping_limit_date\", TimestampType(), True),\n",
    "    StructField(\"price\", FloatType(), True),\n",
    "    StructField(\"freight_value\", FloatType(), True)\n",
    "])\n",
    "\n",
    "customers_schema = StructType([\n",
    "    StructField(\"customer_id\", StringType(), False),\n",
    "    StructField(\"customer_unique_id\", StringType(), True),\n",
    "    StructField(\"customer_zip_code_prefix\", IntegerType(), True),\n",
    "    StructField(\"customer_city\", StringType(), True),\n",
    "    StructField(\"customer_state\", StringType(), True)\n",
    "])"
   ]
  },
  {
   "cell_type": "markdown",
   "metadata": {
    "application/vnd.databricks.v1+cell": {
     "cellMetadata": {
      "byteLimit": 2048000,
      "rowLimit": 10000
     },
     "inputWidgets": {},
     "nuid": "d4f4ee45-c77d-4441-aa80-9e259b9764d5",
     "showTitle": false,
     "title": ""
    }
   },
   "source": [
    "\n",
    "#### Ingesting Data"
   ]
  },
  {
   "cell_type": "code",
   "execution_count": 0,
   "metadata": {
    "application/vnd.databricks.v1+cell": {
     "cellMetadata": {
      "byteLimit": 2048000,
      "rowLimit": 10000
     },
     "inputWidgets": {},
     "nuid": "32b00afa-785c-4948-b2d4-ac77ddb1191a",
     "showTitle": false,
     "title": ""
    }
   },
   "outputs": [],
   "source": [
    "payments_df = spark.read.schema(payments_schema).option(\"header\", \"true\").csv(\"s3://ecommerce-sales-project/bronze/payments.csv\")\n",
    "products_df = spark.read.schema(products_schema).option(\"header\", \"true\").csv(\"s3://ecommerce-sales-project/bronze/products.csv\")\n",
    "sellers_df = spark.read.schema(sellers_schema).option(\"header\", \"true\").csv(\"s3://ecommerce-sales-project/bronze/sellers.csv\")\n",
    "orders_df = spark.read.schema(orders_schema).option(\"header\", \"true\").csv(\"s3://ecommerce-sales-project/bronze/orders.csv\")\n",
    "order_items_df = spark.read.schema(order_items_schema).option(\"header\", \"true\").csv(\"s3://ecommerce-sales-project/bronze/order_items.csv\")\n",
    "customers_df = spark.read.schema(customers_schema).option(\"header\", \"true\").csv(\"s3://ecommerce-sales-project/bronze/customers.csv\")"
   ]
  },
  {
   "cell_type": "markdown",
   "metadata": {
    "application/vnd.databricks.v1+cell": {
     "cellMetadata": {
      "byteLimit": 2048000,
      "rowLimit": 10000
     },
     "inputWidgets": {},
     "nuid": "5ccf02af-2aaf-421b-83ef-e74cdd03c93e",
     "showTitle": false,
     "title": ""
    }
   },
   "source": [
    "#### Data Transformation"
   ]
  },
  {
   "cell_type": "code",
   "execution_count": 0,
   "metadata": {
    "application/vnd.databricks.v1+cell": {
     "cellMetadata": {
      "byteLimit": 2048000,
      "rowLimit": 10000
     },
     "inputWidgets": {},
     "nuid": "36340080-3ca3-4249-9c0f-b2f31434a354",
     "showTitle": false,
     "title": ""
    }
   },
   "outputs": [],
   "source": [
    "#transforming payments_df\n",
    "from pyspark.sql.functions import current_timestamp\n",
    "\n",
    "payments_processed_df = payments_df.withColumn(\"payment_processing_time\", current_timestamp())"
   ]
  },
  {
   "cell_type": "code",
   "execution_count": 0,
   "metadata": {
    "application/vnd.databricks.v1+cell": {
     "cellMetadata": {
      "byteLimit": 2048000,
      "rowLimit": 10000
     },
     "inputWidgets": {},
     "nuid": "d2d6f2de-73b7-48ce-9fb8-49c0a585ab8b",
     "showTitle": false,
     "title": ""
    }
   },
   "outputs": [
    {
     "name": "stdout",
     "output_type": "stream",
     "text": [
      "+--------------------+------------------+------------+--------------------+-------------+-----------------------+\n",
      "|            order_id|payment_sequential|payment_type|payment_installments|payment_value|payment_processing_time|\n",
      "+--------------------+------------------+------------+--------------------+-------------+-----------------------+\n",
      "|b81ef226f3fe1789b...|                 1| credit_card|                   8|        99.33|   2024-07-02 14:18:...|\n",
      "|a9810da82917af2d9...|                 1| credit_card|                   1|        24.39|   2024-07-02 14:18:...|\n",
      "|25e8ea4e93396b6fa...|                 1| credit_card|                   1|        65.71|   2024-07-02 14:18:...|\n",
      "|ba78997921bbcdc13...|                 1| credit_card|                   8|       107.78|   2024-07-02 14:18:...|\n",
      "|42fdf880ba16b47b5...|                 1| credit_card|                   2|       128.45|   2024-07-02 14:18:...|\n",
      "+--------------------+------------------+------------+--------------------+-------------+-----------------------+\n",
      "only showing top 5 rows\n",
      "\n"
     ]
    }
   ],
   "source": [
    "payments_processed_df.show(5)"
   ]
  },
  {
   "cell_type": "code",
   "execution_count": 0,
   "metadata": {
    "application/vnd.databricks.v1+cell": {
     "cellMetadata": {
      "byteLimit": 2048000,
      "rowLimit": 10000
     },
     "inputWidgets": {},
     "nuid": "c67764da-7e25-44f6-aab2-842de0961f37",
     "showTitle": false,
     "title": ""
    }
   },
   "outputs": [],
   "source": [
    "#transforming products_df\n",
    "\n",
    "products_processed_df = products_df.select(\"product_id\", \"product_category_name\", \\\n",
    "                                           \"product_weight_g\", \"product_length_cm\", \\\n",
    "                                           \"product_height_cm\", \"product_width_cm\") \\\n",
    "                                           .withColumn(\"product_category_name\", upper(col(\"product_category_name\"))) \\\n",
    "                                           .withColumnRenamed(\"product_category_name\", \"product_category\")"
   ]
  },
  {
   "cell_type": "code",
   "execution_count": 0,
   "metadata": {
    "application/vnd.databricks.v1+cell": {
     "cellMetadata": {
      "byteLimit": 2048000,
      "rowLimit": 10000
     },
     "inputWidgets": {},
     "nuid": "e486ece0-38d3-4ef8-8c62-ab2256f6dc7a",
     "showTitle": false,
     "title": ""
    }
   },
   "outputs": [
    {
     "name": "stdout",
     "output_type": "stream",
     "text": [
      "+--------------------+----------------+----------------+-----------------+-----------------+----------------+\n",
      "|          product_id|product_category|product_weight_g|product_length_cm|product_height_cm|product_width_cm|\n",
      "+--------------------+----------------+----------------+-----------------+-----------------+----------------+\n",
      "|1e9e8ef04dbcff454...|       PERFUMERY|             225|               16|               10|              14|\n",
      "|3aa071139cb16b67c...|             ART|            1000|               30|               18|              20|\n",
      "|96bd76ec8810374ed...|   SPORT LEISURE|             154|               18|                9|              15|\n",
      "|cef67bcfe19066a93...|          BABIES|             371|               26|                4|              26|\n",
      "|9dc1a7de274444849...|      HOUSEWARES|             625|               20|               17|              13|\n",
      "+--------------------+----------------+----------------+-----------------+-----------------+----------------+\n",
      "only showing top 5 rows\n",
      "\n"
     ]
    }
   ],
   "source": [
    "products_processed_df.show(5)"
   ]
  },
  {
   "cell_type": "code",
   "execution_count": 0,
   "metadata": {
    "application/vnd.databricks.v1+cell": {
     "cellMetadata": {
      "byteLimit": 2048000,
      "rowLimit": 10000
     },
     "inputWidgets": {},
     "nuid": "c1567db5-70a2-4a47-a0b3-f54c312f4b2f",
     "showTitle": false,
     "title": ""
    }
   },
   "outputs": [],
   "source": [
    "#transforming sellers_df\n",
    "\n",
    "sellers_processed_df = sellers_df.select(\"seller_id\", \"seller_city\", \"seller_state\")"
   ]
  },
  {
   "cell_type": "code",
   "execution_count": 0,
   "metadata": {
    "application/vnd.databricks.v1+cell": {
     "cellMetadata": {
      "byteLimit": 2048000,
      "rowLimit": 10000
     },
     "inputWidgets": {},
     "nuid": "be44db7d-aa0f-4267-96a6-7f9a5f05ff8d",
     "showTitle": false,
     "title": ""
    }
   },
   "outputs": [
    {
     "name": "stdout",
     "output_type": "stream",
     "text": [
      "+--------------------+-----------------+------------+\n",
      "|           seller_id|      seller_city|seller_state|\n",
      "+--------------------+-----------------+------------+\n",
      "|3442f8959a84dea7e...|         campinas|          SP|\n",
      "|d1b65fc7debc3361e...|       mogi guacu|          SP|\n",
      "|ce3ad9de960102d06...|   rio de janeiro|          RJ|\n",
      "|c0f3eea2e14555b6f...|        sao paulo|          SP|\n",
      "|51a04a8a6bdcb23de...|braganca paulista|          SP|\n",
      "+--------------------+-----------------+------------+\n",
      "only showing top 5 rows\n",
      "\n"
     ]
    }
   ],
   "source": [
    "sellers_processed_df.show(5)"
   ]
  },
  {
   "cell_type": "code",
   "execution_count": 0,
   "metadata": {
    "application/vnd.databricks.v1+cell": {
     "cellMetadata": {
      "byteLimit": 2048000,
      "rowLimit": 10000
     },
     "inputWidgets": {},
     "nuid": "bfc47ba8-d9f0-478d-ad9f-13403ba04a26",
     "showTitle": false,
     "title": ""
    },
    "jupyter": {
     "outputs_hidden": true
    }
   },
   "outputs": [],
   "source": [
    "#transforming orders_df\n",
    "from pyspark.sql.functions import when, col\n",
    "\n",
    "orders_processed_df = orders_df.select(\"order_id\", \"customer_id\", \"order_status\", \"order_purchase_timestamp\", \\\n",
    "                                \"order_estimated_delivery_date\", \"order_delivered_customer_date\") \\\n",
    "                               .withColumn(\"order_status\", when(col(\"order_status\") == \"invoiced\", \"delayed\") \\\n",
    "                               .otherwise(col(\"order_status\"))) \\\n",
    "                               .withColumnRenamed(\"order_purchase_timestamp\", \"order_purchase_date\") \\\n",
    "                               .withColumnRenamed(\"order_delivered_customer_date\", \"order_delivery_date\")"
   ]
  },
  {
   "cell_type": "code",
   "execution_count": 0,
   "metadata": {
    "application/vnd.databricks.v1+cell": {
     "cellMetadata": {
      "byteLimit": 2048000,
      "rowLimit": 10000
     },
     "inputWidgets": {},
     "nuid": "fcf0fb4c-fdec-43b2-923f-ae6864bae9a4",
     "showTitle": false,
     "title": ""
    }
   },
   "outputs": [
    {
     "name": "stdout",
     "output_type": "stream",
     "text": [
      "+--------------------+--------------------+------------+-------------------+-----------------------------+-------------------+\n",
      "|            order_id|         customer_id|order_status|order_purchase_date|order_estimated_delivery_date|order_delivery_date|\n",
      "+--------------------+--------------------+------------+-------------------+-----------------------------+-------------------+\n",
      "|e481f51cbdc54678b...|9ef432eb625129730...|   delivered|2017-10-02 10:56:33|          2017-10-10 21:25:13|2017-10-04 19:55:00|\n",
      "|53cdb2fc8bc7dce0b...|b0830fb4747a6c6d2...|   delivered|2018-07-24 20:41:37|          2018-08-07 15:27:45|2018-07-26 14:31:00|\n",
      "|47770eb9100c2d0c4...|41ce2a54c0b03bf34...|   delivered|2018-08-08 08:38:49|          2018-08-17 18:06:29|2018-08-08 13:50:00|\n",
      "|949d5b44dbf5de918...|f88197465ea7920ad...|   delivered|2017-11-18 19:28:06|          2017-12-02 00:28:42|2017-11-22 13:39:59|\n",
      "|ad21c59c0840e6cb8...|8ab97904e6daea886...|   delivered|2018-02-13 21:18:39|          2018-02-16 18:17:02|2018-02-14 19:46:34|\n",
      "|a4591c265e18cb1dc...|503740e9ca751ccdd...|   delivered|2017-07-09 21:57:05|          2017-07-26 10:57:55|2017-07-11 14:58:04|\n",
      "|136cce7faa42fdb2c...|ed0271e0b7da060a3...|     delayed|2017-04-11 12:22:08|                         null|               null|\n",
      "|6514b8ad8028c9f2c...|9bdf08b4b3b52b552...|   delivered|2017-05-16 13:10:30|          2017-05-26 12:55:51|2017-05-22 10:07:46|\n",
      "|76c6e866289321a7c...|f54a9f0e6b351c431...|   delivered|2017-01-23 18:29:09|          2017-02-02 14:08:10|2017-01-26 14:16:31|\n",
      "|e69bfb5eb88e0ed6a...|31ad1d1b63eb99624...|   delivered|2017-07-29 11:55:02|          2017-08-16 17:14:30|2017-08-10 19:45:24|\n",
      "+--------------------+--------------------+------------+-------------------+-----------------------------+-------------------+\n",
      "only showing top 10 rows\n",
      "\n"
     ]
    }
   ],
   "source": [
    "orders_processed_df.show(10)"
   ]
  },
  {
   "cell_type": "code",
   "execution_count": 0,
   "metadata": {
    "application/vnd.databricks.v1+cell": {
     "cellMetadata": {
      "byteLimit": 2048000,
      "rowLimit": 10000
     },
     "inputWidgets": {},
     "nuid": "aa2b8021-2183-4e4c-a757-1d369f099866",
     "showTitle": false,
     "title": ""
    },
    "jupyter": {
     "outputs_hidden": true
    }
   },
   "outputs": [],
   "source": [
    "#transforming order_items_df\n",
    "from pyspark.sql.functions import round\n",
    "\n",
    "order_items_processed_df = order_items_df.select(\"order_id\", \"order_item_id\", \"product_id\", \\\n",
    "                                          \"seller_id\", \"price\", \"freight_value\") \\\n",
    "                                         .withColumn(\"total_price\", round(col(\"price\") + col(\"freight_value\"),2))"
   ]
  },
  {
   "cell_type": "code",
   "execution_count": 0,
   "metadata": {
    "application/vnd.databricks.v1+cell": {
     "cellMetadata": {
      "byteLimit": 2048000,
      "rowLimit": 10000
     },
     "inputWidgets": {},
     "nuid": "bfaac872-eade-4fde-9cb9-dcbafc1872d2",
     "showTitle": false,
     "title": ""
    }
   },
   "outputs": [
    {
     "name": "stdout",
     "output_type": "stream",
     "text": [
      "+--------------------+-------------+--------------------+--------------------+-----+-------------+-----------+\n",
      "|            order_id|order_item_id|          product_id|           seller_id|price|freight_value|total_price|\n",
      "+--------------------+-------------+--------------------+--------------------+-----+-------------+-----------+\n",
      "|00010242fe8c5a6d1...|            1|4244733e06e7ecb49...|48436dade18ac8b2b...| 58.9|        13.29|      72.19|\n",
      "|00018f77f2f0320c5...|            1|e5f2d52b802189ee6...|dd7ddc04e1b6c2c61...|239.9|        19.93|     259.83|\n",
      "|000229ec398224ef6...|            1|c777355d18b72b67a...|5b51032eddd242adc...|199.0|        17.87|     216.87|\n",
      "|00024acbcdf0a6daa...|            1|7634da152a4610f15...|9d7a1d34a50524090...|12.99|        12.79|      25.78|\n",
      "|00042b26cf59d7ce6...|            1|ac6c3623068f30de0...|df560393f3a51e745...|199.9|        18.14|     218.04|\n",
      "+--------------------+-------------+--------------------+--------------------+-----+-------------+-----------+\n",
      "only showing top 5 rows\n",
      "\n"
     ]
    }
   ],
   "source": [
    "order_items_processed_df.show(5)"
   ]
  },
  {
   "cell_type": "code",
   "execution_count": 0,
   "metadata": {
    "application/vnd.databricks.v1+cell": {
     "cellMetadata": {
      "byteLimit": 2048000,
      "rowLimit": 10000
     },
     "inputWidgets": {},
     "nuid": "59df9e75-1e95-4310-b526-435c60bf8e5a",
     "showTitle": false,
     "title": ""
    }
   },
   "outputs": [],
   "source": [
    "#transforming customers_df\n",
    "\n",
    "customers_processed_df = customers_df.withColumnRenamed(\"customer_zip_code_prefix\", \"zip_code\")"
   ]
  },
  {
   "cell_type": "code",
   "execution_count": 0,
   "metadata": {
    "application/vnd.databricks.v1+cell": {
     "cellMetadata": {
      "byteLimit": 2048000,
      "rowLimit": 10000
     },
     "inputWidgets": {},
     "nuid": "ec45c202-d0f2-450b-ab82-2711b21a0e03",
     "showTitle": false,
     "title": ""
    }
   },
   "outputs": [
    {
     "name": "stdout",
     "output_type": "stream",
     "text": [
      "+--------------------+--------------------+--------+--------------------+--------------+\n",
      "|         customer_id|  customer_unique_id|zip_code|       customer_city|customer_state|\n",
      "+--------------------+--------------------+--------+--------------------+--------------+\n",
      "|06b8999e2fba1a1fb...|861eff4711a542e4b...|   14409|              franca|            SP|\n",
      "|18955e83d337fd6b2...|290c77bc529b7ac93...|    9790|sao bernardo do c...|            SP|\n",
      "|4e7b3e00288586ebd...|060e732b5b29e8181...|    1151|           sao paulo|            SP|\n",
      "|b2b6027bc5c5109e5...|259dac757896d24d7...|    8775|     mogi das cruzes|            SP|\n",
      "|4f2d8ab171c80ec83...|345ecd01c38d18a90...|   13056|            campinas|            SP|\n",
      "+--------------------+--------------------+--------+--------------------+--------------+\n",
      "only showing top 5 rows\n",
      "\n"
     ]
    }
   ],
   "source": [
    "customers_processed_df.show(5)"
   ]
  },
  {
   "cell_type": "markdown",
   "metadata": {
    "application/vnd.databricks.v1+cell": {
     "cellMetadata": {},
     "inputWidgets": {},
     "nuid": "cdc0e5c8-2b9d-45b3-84be-7e75f864a29d",
     "showTitle": false,
     "title": ""
    }
   },
   "source": [
    "\n",
    "#### Saving files to 'Silver' bucket"
   ]
  },
  {
   "cell_type": "code",
   "execution_count": 0,
   "metadata": {
    "application/vnd.databricks.v1+cell": {
     "cellMetadata": {
      "byteLimit": 2048000,
      "rowLimit": 10000
     },
     "inputWidgets": {},
     "nuid": "8ffccea8-451f-4ec4-bd2f-c81e92345f06",
     "showTitle": false,
     "title": ""
    },
    "jupyter": {
     "outputs_hidden": true
    }
   },
   "outputs": [],
   "source": [
    "payments_processed_df.write.mode(\"overwrite\").parquet(\"s3://ecommerce-sales-project/silver/payments_processed\")\n",
    "products_processed_df.write.mode(\"overwrite\").parquet(\"s3://ecommerce-sales-project/silver/products_processed\")\n",
    "sellers_processed_df.write.mode(\"overwrite\").parquet(\"s3://ecommerce-sales-project/silver/sellers_processed\")\n",
    "orders_processed_df.write.mode(\"overwrite\").parquet(\"s3://ecommerce-sales-project/silver/orders_processed\")\n",
    "order_items_processed_df.write.mode(\"overwrite\").parquet(\"s3://ecommerce-sales-project/silver/order_items_processed\")\n",
    "customers_processed_df.write.mode(\"overwrite\").parquet(\"s3://ecommerce-sales-project/silver/customers_processed\")"
   ]
  }
 ],
 "metadata": {
  "application/vnd.databricks.v1+notebook": {
   "dashboards": [],
   "environmentMetadata": null,
   "language": "python",
   "notebookMetadata": {
    "pythonIndentUnit": 4
   },
   "notebookName": "Ingesting Data",
   "widgets": {}
  },
  "kernelspec": {
   "display_name": "Python 3 (ipykernel)",
   "language": "python",
   "name": "python3"
  },
  "language_info": {
   "codemirror_mode": {
    "name": "ipython",
    "version": 3
   },
   "file_extension": ".py",
   "mimetype": "text/x-python",
   "name": "python",
   "nbconvert_exporter": "python",
   "pygments_lexer": "ipython3",
   "version": "3.10.9"
  }
 },
 "nbformat": 4,
 "nbformat_minor": 1
}
